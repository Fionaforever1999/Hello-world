{
 "cells": [
  {
   "cell_type": "code",
   "execution_count": 33,
   "metadata": {},
   "outputs": [],
   "source": [
    "import keras\n",
    "from keras.models import Model\n",
    "from keras.datasets import cifar100\n",
    "from keras.layers import Input ,Dense,Activation,Flatten,Dropout\n",
    "from keras.layers.convolutional import  Conv2D\n",
    "from keras.layers.pooling import MaxPooling2D\n",
    "from keras import optimizers"
   ]
  },
  {
   "cell_type": "code",
   "execution_count": 34,
   "metadata": {},
   "outputs": [],
   "source": [
    "(x_train, y_train), (x_test, y_test) = cifar100.load_data(label_mode='fine')"
   ]
  },
  {
   "cell_type": "code",
   "execution_count": 35,
   "metadata": {},
   "outputs": [
    {
     "name": "stdout",
     "output_type": "stream",
     "text": [
      "the shape of the training data is : (50000, 32, 32, 3) (50000, 1)\n",
      "the shape of the texing data is : (10000, 32, 32, 3) (10000, 1)\n",
      "the range of features is : 0 to 255\n",
      "the range of laybals is : 0 to 99\n",
      "lab 1 is [19]\n",
      "lab 2 is [29]\n",
      "lab 3 is [0]\n",
      "lab 4 is [11]\n",
      "lab 5 is [1]\n",
      "lab 6 is [86]\n",
      "lab 7 is [90]\n",
      "lab 8 is [28]\n",
      "lab 9 is [23]\n",
      "lab 10 is [31]\n"
     ]
    },
    {
     "data": {
      "image/png": "[encoded data removed]",
      "text/plain": [
       "<matplotlib.figure.Figure at 0x181de9be48>"
      ]
     },
     "metadata": {},
     "output_type": "display_data"
    }
   ],
   "source": [
    "print('the shape of the training data is :',x_train.shape,y_train.shape )\n",
    "print('the shape of the texing data is :',x_test.shape,y_test.shape )\n",
    "\n",
    "import numpy as np\n",
    "print('the range of features is :' ,np.min(x_train),'to',np.max(x_train))\n",
    "print('the range of laybals is :' ,np.min(y_train),'to',np.max(y_train))\n",
    "\n",
    "import matplotlib.pyplot as plt \n",
    "% matplotlib inline \n",
    "for i in range (10):\n",
    "    image = x_train[i]\n",
    "    plt.subplot(2,10,i+1)\n",
    "    print('lab',i+1,'is',y_train[i])\n",
    "    plt.imshow(image, cmap='Greys')#显示灰度图\n",
    "    plt.axis('off')\n"
   ]
  },
  {
   "cell_type": "code",
   "execution_count": 36,
   "metadata": {},
   "outputs": [],
   "source": [
    "x_train=x_train/255.0\n",
    "y_train=y_train/255.0\n",
    "\n",
    "y_train = keras.utils.to_categorical(y_train[:,0], num_classes=100)\n",
    "y_test = keras.utils.to_categorical(y_test[:,0], num_classes=100)\n"
   ]
  },
  {
   "cell_type": "code",
   "execution_count": 37,
   "metadata": {},
   "outputs": [],
   "source": [
    "def ConvNet(num_classes=100):\n",
    "\n",
    "    images = Input(shape=(32, 32, 3))           #use input shape that matches image size\n",
    "    \n",
    "    # Convolutional layers\n",
    "    x = Conv2D(filters=12, kernel_size=(4, 4), padding='same', activation='softmax')(images)  #conv layer1\n",
    "    x = Dropout(0.25)(x)                     #dropout layer1\n",
    "    \n",
    "    x = Conv2D(filters=64, kernel_size=(3, 3), activation='relu')(x)   #conv layer2\n",
    "    x = MaxPooling2D(pool_size=(3, 3))(x)  #pooling layer2\n",
    "    x = Dropout(0.5)(x)                     #dropout layer1\n",
    "    \n",
    "    x = Conv2D(filters=64, kernel_size=(2, 2), activation='relu')(x)   #conv layer2\n",
    "    x = MaxPooling2D(pool_size=(2, 2))(x)  #pooling layer2\n",
    "    x = Dropout(0.15)(x)\n",
    "\n",
    "    # Fully-connected layer: \n",
    "    x = Flatten()(x)          \n",
    "    x = Dense(200)(x)         #200 neurons fc layer\n",
    "    x = Dense(units=num_classes, activation='softmax')(x)\n",
    "\n",
    "    # Instantiate a model based on inputs/outputs\n",
    "    model = Model(inputs=images, outputs=x)\n",
    "\n",
    "    # Configure the model for training. \n",
    "    model.compile(\n",
    "            loss='categorical_crossentropy',\n",
    "            optimizer=optimizers.Adam(),\n",
    "            metrics=[\n",
    "                'categorical_accuracy',\n",
    "                keras.metrics.top_k_categorical_accuracy])\n",
    "\n",
    "    return model"
   ]
  },
  {
   "cell_type": "code",
   "execution_count": null,
   "metadata": {},
   "outputs": [
    {
     "name": "stdout",
     "output_type": "stream",
     "text": [
      "Epoch 1/30\n",
      "50000/50000 [==============================] - 250s 5ms/step - loss: 0.0073 - categorical_accuracy: 0.9994 - top_k_categorical_accuracy: 0.9994\n",
      "Epoch 2/30\n",
      "50000/50000 [==============================] - 241s 5ms/step - loss: 1.1921e-07 - categorical_accuracy: 1.0000 - top_k_categorical_accuracy: 1.0000\n",
      "Epoch 3/30\n",
      "50000/50000 [==============================] - 244s 5ms/step - loss: 1.1921e-07 - categorical_accuracy: 1.0000 - top_k_categorical_accuracy: 1.0000\n",
      "Epoch 4/30\n",
      "12416/50000 [======>.......................] - ETA: 3:15 - loss: 1.1921e-07 - categorical_accuracy: 1.0000 - top_k_categorical_accuracy: 1.0000"
     ]
    }
   ],
   "source": [
    "model = ConvNet()\n",
    "model.fit(\n",
    "        x=x_train,\n",
    "        y=y_train,\n",
    "        epochs=30,\n",
    "        shuffle=True)"
   ]
  },
  {
   "cell_type": "code",
   "execution_count": null,
   "metadata": {},
   "outputs": [],
   "source": []
  }
 ],
 "metadata": {
  "kernelspec": {
   "display_name": "Python 3",
   "language": "python",
   "name": "python3"
  },
  "language_info": {
   "codemirror_mode": {
    "name": "ipython",
    "version": 3
   },
   "file_extension": ".py",
   "mimetype": "text/x-python",
   "name": "python",
   "nbconvert_exporter": "python",
   "pygments_lexer": "ipython3",
   "version": "3.6.4"
  }
 },
 "nbformat": 4,
 "nbformat_minor": 2
}
